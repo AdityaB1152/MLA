{
 "cells": [
  {
   "cell_type": "code",
   "execution_count": 1,
   "id": "602d4690",
   "metadata": {},
   "outputs": [],
   "source": [
    "import pandas as pd"
   ]
  },
  {
   "cell_type": "code",
   "execution_count": 2,
   "id": "cb2888b4",
   "metadata": {},
   "outputs": [],
   "source": [
    "file= pd.read_csv('D:\\\\Downloads\\\\Admission_Predict.csv')"
   ]
  },
  {
   "cell_type": "code",
   "execution_count": 3,
   "id": "cd3914a4",
   "metadata": {},
   "outputs": [
    {
     "data": {
      "text/html": [
       "<div>\n",
       "<style scoped>\n",
       "    .dataframe tbody tr th:only-of-type {\n",
       "        vertical-align: middle;\n",
       "    }\n",
       "\n",
       "    .dataframe tbody tr th {\n",
       "        vertical-align: top;\n",
       "    }\n",
       "\n",
       "    .dataframe thead th {\n",
       "        text-align: right;\n",
       "    }\n",
       "</style>\n",
       "<table border=\"1\" class=\"dataframe\">\n",
       "  <thead>\n",
       "    <tr style=\"text-align: right;\">\n",
       "      <th></th>\n",
       "      <th>Serial No.</th>\n",
       "      <th>GRE Score</th>\n",
       "      <th>TOEFL Score</th>\n",
       "      <th>University Rating</th>\n",
       "      <th>SOP</th>\n",
       "      <th>LOR</th>\n",
       "      <th>CGPA</th>\n",
       "      <th>Research</th>\n",
       "      <th>Chance of Admit</th>\n",
       "    </tr>\n",
       "  </thead>\n",
       "  <tbody>\n",
       "    <tr>\n",
       "      <th>0</th>\n",
       "      <td>1</td>\n",
       "      <td>337</td>\n",
       "      <td>118</td>\n",
       "      <td>4</td>\n",
       "      <td>4.5</td>\n",
       "      <td>4.5</td>\n",
       "      <td>9.65</td>\n",
       "      <td>1</td>\n",
       "      <td>0.92</td>\n",
       "    </tr>\n",
       "    <tr>\n",
       "      <th>1</th>\n",
       "      <td>2</td>\n",
       "      <td>324</td>\n",
       "      <td>107</td>\n",
       "      <td>4</td>\n",
       "      <td>4.0</td>\n",
       "      <td>4.5</td>\n",
       "      <td>8.87</td>\n",
       "      <td>1</td>\n",
       "      <td>0.76</td>\n",
       "    </tr>\n",
       "    <tr>\n",
       "      <th>2</th>\n",
       "      <td>3</td>\n",
       "      <td>316</td>\n",
       "      <td>104</td>\n",
       "      <td>3</td>\n",
       "      <td>3.0</td>\n",
       "      <td>3.5</td>\n",
       "      <td>8.00</td>\n",
       "      <td>1</td>\n",
       "      <td>0.72</td>\n",
       "    </tr>\n",
       "    <tr>\n",
       "      <th>3</th>\n",
       "      <td>4</td>\n",
       "      <td>322</td>\n",
       "      <td>110</td>\n",
       "      <td>3</td>\n",
       "      <td>3.5</td>\n",
       "      <td>2.5</td>\n",
       "      <td>8.67</td>\n",
       "      <td>1</td>\n",
       "      <td>0.80</td>\n",
       "    </tr>\n",
       "    <tr>\n",
       "      <th>4</th>\n",
       "      <td>5</td>\n",
       "      <td>314</td>\n",
       "      <td>103</td>\n",
       "      <td>2</td>\n",
       "      <td>2.0</td>\n",
       "      <td>3.0</td>\n",
       "      <td>8.21</td>\n",
       "      <td>0</td>\n",
       "      <td>0.65</td>\n",
       "    </tr>\n",
       "    <tr>\n",
       "      <th>...</th>\n",
       "      <td>...</td>\n",
       "      <td>...</td>\n",
       "      <td>...</td>\n",
       "      <td>...</td>\n",
       "      <td>...</td>\n",
       "      <td>...</td>\n",
       "      <td>...</td>\n",
       "      <td>...</td>\n",
       "      <td>...</td>\n",
       "    </tr>\n",
       "    <tr>\n",
       "      <th>395</th>\n",
       "      <td>396</td>\n",
       "      <td>324</td>\n",
       "      <td>110</td>\n",
       "      <td>3</td>\n",
       "      <td>3.5</td>\n",
       "      <td>3.5</td>\n",
       "      <td>9.04</td>\n",
       "      <td>1</td>\n",
       "      <td>0.82</td>\n",
       "    </tr>\n",
       "    <tr>\n",
       "      <th>396</th>\n",
       "      <td>397</td>\n",
       "      <td>325</td>\n",
       "      <td>107</td>\n",
       "      <td>3</td>\n",
       "      <td>3.0</td>\n",
       "      <td>3.5</td>\n",
       "      <td>9.11</td>\n",
       "      <td>1</td>\n",
       "      <td>0.84</td>\n",
       "    </tr>\n",
       "    <tr>\n",
       "      <th>397</th>\n",
       "      <td>398</td>\n",
       "      <td>330</td>\n",
       "      <td>116</td>\n",
       "      <td>4</td>\n",
       "      <td>5.0</td>\n",
       "      <td>4.5</td>\n",
       "      <td>9.45</td>\n",
       "      <td>1</td>\n",
       "      <td>0.91</td>\n",
       "    </tr>\n",
       "    <tr>\n",
       "      <th>398</th>\n",
       "      <td>399</td>\n",
       "      <td>312</td>\n",
       "      <td>103</td>\n",
       "      <td>3</td>\n",
       "      <td>3.5</td>\n",
       "      <td>4.0</td>\n",
       "      <td>8.78</td>\n",
       "      <td>0</td>\n",
       "      <td>0.67</td>\n",
       "    </tr>\n",
       "    <tr>\n",
       "      <th>399</th>\n",
       "      <td>400</td>\n",
       "      <td>333</td>\n",
       "      <td>117</td>\n",
       "      <td>4</td>\n",
       "      <td>5.0</td>\n",
       "      <td>4.0</td>\n",
       "      <td>9.66</td>\n",
       "      <td>1</td>\n",
       "      <td>0.95</td>\n",
       "    </tr>\n",
       "  </tbody>\n",
       "</table>\n",
       "<p>400 rows × 9 columns</p>\n",
       "</div>"
      ],
      "text/plain": [
       "     Serial No.  GRE Score  TOEFL Score  University Rating  SOP  LOR   CGPA  \\\n",
       "0             1        337          118                  4  4.5   4.5  9.65   \n",
       "1             2        324          107                  4  4.0   4.5  8.87   \n",
       "2             3        316          104                  3  3.0   3.5  8.00   \n",
       "3             4        322          110                  3  3.5   2.5  8.67   \n",
       "4             5        314          103                  2  2.0   3.0  8.21   \n",
       "..          ...        ...          ...                ...  ...   ...   ...   \n",
       "395         396        324          110                  3  3.5   3.5  9.04   \n",
       "396         397        325          107                  3  3.0   3.5  9.11   \n",
       "397         398        330          116                  4  5.0   4.5  9.45   \n",
       "398         399        312          103                  3  3.5   4.0  8.78   \n",
       "399         400        333          117                  4  5.0   4.0  9.66   \n",
       "\n",
       "     Research  Chance of Admit   \n",
       "0           1              0.92  \n",
       "1           1              0.76  \n",
       "2           1              0.72  \n",
       "3           1              0.80  \n",
       "4           0              0.65  \n",
       "..        ...               ...  \n",
       "395         1              0.82  \n",
       "396         1              0.84  \n",
       "397         1              0.91  \n",
       "398         0              0.67  \n",
       "399         1              0.95  \n",
       "\n",
       "[400 rows x 9 columns]"
      ]
     },
     "execution_count": 3,
     "metadata": {},
     "output_type": "execute_result"
    }
   ],
   "source": [
    "file"
   ]
  },
  {
   "cell_type": "code",
   "execution_count": 5,
   "id": "d0396fbe",
   "metadata": {},
   "outputs": [],
   "source": [
    "file.loc[file['Chance of Admit ']>=0.5, 'Chance of Admit ']=1\n",
    "file.loc[file['Chance of Admit ']<0.5, 'Chance of Admit ']=0"
   ]
  },
  {
   "cell_type": "code",
   "execution_count": 6,
   "id": "48bcc1b9",
   "metadata": {},
   "outputs": [],
   "source": [
    "file['Chance of Admit ']= file['Chance of Admit '].astype(int)"
   ]
  },
  {
   "cell_type": "code",
   "execution_count": 8,
   "id": "49909cc1",
   "metadata": {},
   "outputs": [],
   "source": [
    "from sklearn.model_selection import train_test_split"
   ]
  },
  {
   "cell_type": "code",
   "execution_count": 18,
   "id": "fd129acb",
   "metadata": {},
   "outputs": [],
   "source": [
    "column= ['GRE Score', 'TOEFL Score', 'University Rating', 'SOP', 'LOR', 'CGPA', 'Research']\n",
    "x= file.drop('Chance of Admit ',axis=1)\n",
    "y=file['Chance of Admit ']"
   ]
  },
  {
   "cell_type": "code",
   "execution_count": 19,
   "id": "e3df828b",
   "metadata": {},
   "outputs": [],
   "source": [
    "xtrain, xtest, ytrain, ytest= train_test_split(x, y, test_size=0.25, random_state=0)"
   ]
  },
  {
   "cell_type": "code",
   "execution_count": 21,
   "id": "cd9167e6",
   "metadata": {},
   "outputs": [
    {
     "name": "stdout",
     "output_type": "stream",
     "text": [
      "     Serial No.  GRE Score  TOEFL Score  University Rating  SOP  LOR   CGPA  \\\n",
      "250         251        320          104                  3  3.0   2.5  8.57   \n",
      "63           64        315          107                  2  4.0   3.0  8.50   \n",
      "312         313        311          107                  4  4.5   4.5  9.00   \n",
      "159         160        297          100                  1  1.5   2.0  7.90   \n",
      "283         284        321          111                  3  2.5   3.0  8.90   \n",
      "..          ...        ...          ...                ...  ...   ...   ...   \n",
      "323         324        305          102                  2  2.0   2.5  8.18   \n",
      "192         193        322          114                  5  4.5   4.0  8.94   \n",
      "117         118        290          104                  4  2.0   2.5  7.46   \n",
      "47           48        339          119                  5  4.5   4.0  9.70   \n",
      "172         173        322          110                  4  4.0   5.0  9.13   \n",
      "\n",
      "     Research  \n",
      "250         1  \n",
      "63          1  \n",
      "312         1  \n",
      "159         0  \n",
      "283         1  \n",
      "..        ...  \n",
      "323         0  \n",
      "192         1  \n",
      "117         0  \n",
      "47          0  \n",
      "172         1  \n",
      "\n",
      "[300 rows x 8 columns]\n",
      "     Serial No.  GRE Score  TOEFL Score  University Rating  SOP  LOR   CGPA  \\\n",
      "132         133        309          105                  5  3.5   3.5  8.56   \n",
      "309         310        308          110                  4  3.5   3.0  8.60   \n",
      "341         342        326          110                  3  3.5   3.5  8.76   \n",
      "196         197        306          105                  2  3.0   2.5  8.26   \n",
      "246         247        316          105                  3  3.0   3.5  8.73   \n",
      "..          ...        ...          ...                ...  ...   ...   ...   \n",
      "146         147        315          105                  3  2.0   2.5  8.48   \n",
      "135         136        314          109                  4  3.5   4.0  8.77   \n",
      "390         391        314          102                  2  2.0   2.5  8.24   \n",
      "264         265        325          110                  2  3.0   2.5  8.76   \n",
      "364         365        313          102                  3  3.5   4.0  8.90   \n",
      "\n",
      "     Research  \n",
      "132         0  \n",
      "309         0  \n",
      "341         1  \n",
      "196         0  \n",
      "246         0  \n",
      "..        ...  \n",
      "146         0  \n",
      "135         1  \n",
      "390         0  \n",
      "264         1  \n",
      "364         1  \n",
      "\n",
      "[100 rows x 8 columns]\n",
      "250    1\n",
      "63     1\n",
      "312    1\n",
      "159    1\n",
      "283    1\n",
      "      ..\n",
      "323    1\n",
      "192    1\n",
      "117    0\n",
      "47     1\n",
      "172    1\n",
      "Name: Chance of Admit , Length: 300, dtype: int32\n",
      "132    1\n",
      "309    1\n",
      "341    1\n",
      "196    1\n",
      "246    1\n",
      "      ..\n",
      "146    1\n",
      "135    1\n",
      "390    1\n",
      "264    1\n",
      "364    1\n",
      "Name: Chance of Admit , Length: 100, dtype: int32\n"
     ]
    }
   ],
   "source": [
    "print(xtrain)\n",
    "print(xtest)\n",
    "print(ytrain)\n",
    "print(ytest)"
   ]
  },
  {
   "cell_type": "code",
   "execution_count": 24,
   "id": "f08a5136",
   "metadata": {},
   "outputs": [],
   "source": [
    "from sklearn.svm import SVC"
   ]
  },
  {
   "cell_type": "code",
   "execution_count": 27,
   "id": "e8da4195",
   "metadata": {},
   "outputs": [],
   "source": [
    "linearKernelClassifier= SVC(kernel='linear')\n",
    "linearKernelClassifier.fit(xtrain, ytrain)\n",
    "yprec1= linearKernelClassifier.predict(xtest)"
   ]
  },
  {
   "cell_type": "code",
   "execution_count": 28,
   "id": "d4acb238",
   "metadata": {},
   "outputs": [],
   "source": [
    "polyKernelClassifier= SVC(kernel='poly')\n",
    "polyKernelClassifier.fit(xtrain, ytrain)\n",
    "yprec2= polyKernelClassifier.predict(xtest)"
   ]
  },
  {
   "cell_type": "code",
   "execution_count": 30,
   "id": "50814075",
   "metadata": {},
   "outputs": [],
   "source": [
    "rbfKernelClassifier= SVC(kernel='rbf')\n",
    "rbfKernelClassifier.fit(xtrain, ytrain)\n",
    "yprec3= rbfKernelClassifier.predict(xtest)"
   ]
  },
  {
   "cell_type": "code",
   "execution_count": 31,
   "id": "a88d038c",
   "metadata": {},
   "outputs": [],
   "source": [
    "sigmoidKernelClassifier= SVC(kernel='sigmoid')\n",
    "sigmoidKernelClassifier.fit(xtrain, ytrain)\n",
    "yprec4= sigmoidKernelClassifier.predict(xtest)"
   ]
  },
  {
   "cell_type": "code",
   "execution_count": 35,
   "id": "d2555727",
   "metadata": {},
   "outputs": [
    {
     "data": {
      "text/html": [
       "<div>\n",
       "<style scoped>\n",
       "    .dataframe tbody tr th:only-of-type {\n",
       "        vertical-align: middle;\n",
       "    }\n",
       "\n",
       "    .dataframe tbody tr th {\n",
       "        vertical-align: top;\n",
       "    }\n",
       "\n",
       "    .dataframe thead th {\n",
       "        text-align: right;\n",
       "    }\n",
       "</style>\n",
       "<table border=\"1\" class=\"dataframe\">\n",
       "  <thead>\n",
       "    <tr style=\"text-align: right;\">\n",
       "      <th></th>\n",
       "      <th>Actual</th>\n",
       "      <th>Linear Kernel</th>\n",
       "      <th>Polynomial Kernel</th>\n",
       "      <th>RBF Kernel</th>\n",
       "      <th>Sigmoid Kernel</th>\n",
       "    </tr>\n",
       "  </thead>\n",
       "  <tbody>\n",
       "    <tr>\n",
       "      <th>132</th>\n",
       "      <td>1</td>\n",
       "      <td>1</td>\n",
       "      <td>1</td>\n",
       "      <td>1</td>\n",
       "      <td>1</td>\n",
       "    </tr>\n",
       "    <tr>\n",
       "      <th>309</th>\n",
       "      <td>1</td>\n",
       "      <td>1</td>\n",
       "      <td>1</td>\n",
       "      <td>1</td>\n",
       "      <td>1</td>\n",
       "    </tr>\n",
       "    <tr>\n",
       "      <th>341</th>\n",
       "      <td>1</td>\n",
       "      <td>1</td>\n",
       "      <td>1</td>\n",
       "      <td>1</td>\n",
       "      <td>1</td>\n",
       "    </tr>\n",
       "    <tr>\n",
       "      <th>196</th>\n",
       "      <td>1</td>\n",
       "      <td>1</td>\n",
       "      <td>1</td>\n",
       "      <td>1</td>\n",
       "      <td>1</td>\n",
       "    </tr>\n",
       "    <tr>\n",
       "      <th>246</th>\n",
       "      <td>1</td>\n",
       "      <td>1</td>\n",
       "      <td>1</td>\n",
       "      <td>1</td>\n",
       "      <td>1</td>\n",
       "    </tr>\n",
       "  </tbody>\n",
       "</table>\n",
       "</div>"
      ],
      "text/plain": [
       "     Actual  Linear Kernel  Polynomial Kernel  RBF Kernel  Sigmoid Kernel\n",
       "132       1              1                  1           1               1\n",
       "309       1              1                  1           1               1\n",
       "341       1              1                  1           1               1\n",
       "196       1              1                  1           1               1\n",
       "246       1              1                  1           1               1"
      ]
     },
     "execution_count": 35,
     "metadata": {},
     "output_type": "execute_result"
    }
   ],
   "source": [
    "final= pd.DataFrame({'Actual':ytest, 'Linear Kernel': yprec1, 'Polynomial Kernel':yprec2, 'RBF Kernel': yprec3, 'Sigmoid Kernel': yprec4})\n",
    "final.head()"
   ]
  },
  {
   "cell_type": "code",
   "execution_count": 36,
   "id": "c1ca1f02",
   "metadata": {},
   "outputs": [],
   "source": [
    "from sklearn.metrics import accuracy_score"
   ]
  },
  {
   "cell_type": "code",
   "execution_count": 40,
   "id": "7246bde5",
   "metadata": {},
   "outputs": [
    {
     "data": {
      "text/html": [
       "<div>\n",
       "<style scoped>\n",
       "    .dataframe tbody tr th:only-of-type {\n",
       "        vertical-align: middle;\n",
       "    }\n",
       "\n",
       "    .dataframe tbody tr th {\n",
       "        vertical-align: top;\n",
       "    }\n",
       "\n",
       "    .dataframe thead th {\n",
       "        text-align: right;\n",
       "    }\n",
       "</style>\n",
       "<table border=\"1\" class=\"dataframe\">\n",
       "  <thead>\n",
       "    <tr style=\"text-align: right;\">\n",
       "      <th></th>\n",
       "      <th>Linear Kernel</th>\n",
       "      <th>Polynomial Kernel</th>\n",
       "      <th>RBF Kernel</th>\n",
       "      <th>Sigmoid Kernel</th>\n",
       "    </tr>\n",
       "  </thead>\n",
       "  <tbody>\n",
       "    <tr>\n",
       "      <th>0</th>\n",
       "      <td>0.93</td>\n",
       "      <td>0.93</td>\n",
       "      <td>0.93</td>\n",
       "      <td>0.93</td>\n",
       "    </tr>\n",
       "  </tbody>\n",
       "</table>\n",
       "</div>"
      ],
      "text/plain": [
       "   Linear Kernel  Polynomial Kernel  RBF Kernel  Sigmoid Kernel\n",
       "0           0.93               0.93        0.93            0.93"
      ]
     },
     "execution_count": 40,
     "metadata": {},
     "output_type": "execute_result"
    }
   ],
   "source": [
    "accuracyScore= pd.DataFrame({'Linear Kernel': accuracy_score(ytest, yprec1), 'Polynomial Kernel':accuracy_score(ytest, yprec2), 'RBF Kernel': accuracy_score(ytest, yprec3), 'Sigmoid Kernel': accuracy_score(ytest, yprec4)}, index = [0])\n",
    "accuracyScore"
   ]
  },
  {
   "cell_type": "code",
   "execution_count": 41,
   "id": "8670a5c3",
   "metadata": {},
   "outputs": [],
   "source": [
    "import matplotlib.pyplot as plt"
   ]
  },
  {
   "cell_type": "code",
   "execution_count": 42,
   "id": "352dfe94",
   "metadata": {},
   "outputs": [
    {
     "data": {
      "text/plain": [
       "Text(0, 0.5, 'Accuracy Score')"
      ]
     },
     "execution_count": 42,
     "metadata": {},
     "output_type": "execute_result"
    },
    {
     "data": {
      "image/png": "[encoded data removed]",
      "text/plain": [
       "<Figure size 720x360 with 1 Axes>"
      ]
     },
     "metadata": {
      "needs_background": "light"
     },
     "output_type": "display_data"
    }
   ],
   "source": [
    "accuracyScore.plot(kind='bar', figsize=(10,5))\n",
    "plt.title('Accuracy score of all kernel')\n",
    "plt.xlabel('Kernel')\n",
    "plt.ylabel('Accuracy Score')"
   ]
  },
  {
   "cell_type": "code",
   "execution_count": 43,
   "id": "2b88e34e",
   "metadata": {},
   "outputs": [],
   "source": [
    "from sklearn.metrics import confusion_matrix"
   ]
  },
  {
   "cell_type": "code",
   "execution_count": 45,
   "id": "8a38d708",
   "metadata": {},
   "outputs": [
    {
     "data": {
      "text/plain": [
       "array([[ 2,  5],\n",
       "       [ 2, 91]], dtype=int64)"
      ]
     },
     "execution_count": 45,
     "metadata": {},
     "output_type": "execute_result"
    }
   ],
   "source": [
    "matrix=confusion_matrix(ytest, yprec1)\n",
    "matrix"
   ]
  },
  {
   "cell_type": "code",
   "execution_count": 46,
   "id": "2e21c766",
   "metadata": {},
   "outputs": [],
   "source": [
    "import seaborn as sns"
   ]
  },
  {
   "cell_type": "code",
   "execution_count": 47,
   "id": "ecb4db8b",
   "metadata": {},
   "outputs": [
    {
     "data": {
      "text/plain": [
       "<AxesSubplot:>"
      ]
     },
     "execution_count": 47,
     "metadata": {},
     "output_type": "execute_result"
    },
    {
     "data": {
      "image/png": "[encoded data removed]",
      "text/plain": [
       "<Figure size 432x288 with 2 Axes>"
      ]
     },
     "metadata": {
      "needs_background": "light"
     },
     "output_type": "display_data"
    }
   ],
   "source": [
    "sns.heatmap(matrix, annot=True)"
   ]
  },
  {
   "cell_type": "code",
   "execution_count": null,
   "id": "d491dcd8",
   "metadata": {},
   "outputs": [],
   "source": []
  }
 ],
 "metadata": {
  "kernelspec": {
   "display_name": "Python 3 (ipykernel)",
   "language": "python",
   "name": "python3"
  },
  "language_info": {
   "codemirror_mode": {
    "name": "ipython",
    "version": 3
   },
   "file_extension": ".py",
   "mimetype": "text/x-python",
   "name": "python",
   "nbconvert_exporter": "python",
   "pygments_lexer": "ipython3",
   "version": "3.10.6"
  }
 },
 "nbformat": 4,
 "nbformat_minor": 5
}
